{
 "cells": [
  {
   "cell_type": "code",
   "execution_count": 1,
   "metadata": {
    "is_executing": true
   },
   "outputs": [],
   "source": [
    "#pip install dash"
   ]
  },
  {
   "cell_type": "code",
   "execution_count": 2,
   "metadata": {
    "is_executing": true
   },
   "outputs": [],
   "source": [
    "# Import necessary libraries\n",
    "import pandas as pd\n",
    "import numpy as np\n",
    "import matplotlib.pyplot as plt\n",
    "import seaborn as sns\n",
    "from dash import Dash, dcc, html, Input, Output"
   ]
  },
  {
   "cell_type": "code",
   "execution_count": 3,
   "metadata": {
    "collapsed": false,
    "is_executing": true,
    "jupyter": {
     "outputs_hidden": false
    }
   },
   "outputs": [],
   "source": [
    "# Load the dataset\n",
    "data = pd.read_csv('health.csv')"
   ]
  },
  {
   "cell_type": "code",
   "execution_count": 4,
   "metadata": {
    "collapsed": false,
    "is_executing": true,
    "jupyter": {
     "outputs_hidden": false
    }
   },
   "outputs": [
    {
     "name": "stdout",
     "output_type": "stream",
     "text": [
      "Initial Data:\n"
     ]
    },
    {
     "data": {
      "text/html": [
       "<div>\n",
       "<style scoped>\n",
       "    .dataframe tbody tr th:only-of-type {\n",
       "        vertical-align: middle;\n",
       "    }\n",
       "\n",
       "    .dataframe tbody tr th {\n",
       "        vertical-align: top;\n",
       "    }\n",
       "\n",
       "    .dataframe thead th {\n",
       "        text-align: right;\n",
       "    }\n",
       "</style>\n",
       "<table border=\"1\" class=\"dataframe\">\n",
       "  <thead>\n",
       "    <tr style=\"text-align: right;\">\n",
       "      <th></th>\n",
       "      <th>GHO (CODE)</th>\n",
       "      <th>GHO (DISPLAY)</th>\n",
       "      <th>GHO (URL)</th>\n",
       "      <th>YEAR (DISPLAY)</th>\n",
       "      <th>STARTYEAR</th>\n",
       "      <th>ENDYEAR</th>\n",
       "      <th>REGION (CODE)</th>\n",
       "      <th>REGION (DISPLAY)</th>\n",
       "      <th>COUNTRY (CODE)</th>\n",
       "      <th>COUNTRY (DISPLAY)</th>\n",
       "      <th>DIMENSION (TYPE)</th>\n",
       "      <th>DIMENSION (CODE)</th>\n",
       "      <th>DIMENSION (NAME)</th>\n",
       "      <th>Numeric</th>\n",
       "      <th>Value</th>\n",
       "      <th>Low</th>\n",
       "      <th>High</th>\n",
       "    </tr>\n",
       "  </thead>\n",
       "  <tbody>\n",
       "    <tr>\n",
       "      <th>0</th>\n",
       "      <td>TB_hivtest_pos_pct</td>\n",
       "      <td>Tested TB patients HIV-positive (%)</td>\n",
       "      <td>https://www.who.int/data/gho/data/indicators/i...</td>\n",
       "      <td>2006</td>\n",
       "      <td>2006</td>\n",
       "      <td>2006</td>\n",
       "      <td>AFR</td>\n",
       "      <td>Africa</td>\n",
       "      <td>KEN</td>\n",
       "      <td>Kenya</td>\n",
       "      <td>NaN</td>\n",
       "      <td>NaN</td>\n",
       "      <td>NaN</td>\n",
       "      <td>52.00000</td>\n",
       "      <td>52</td>\n",
       "      <td>NaN</td>\n",
       "      <td>NaN</td>\n",
       "    </tr>\n",
       "    <tr>\n",
       "      <th>1</th>\n",
       "      <td>NCD_BMI_30A</td>\n",
       "      <td>Prevalence of obesity among adults, BMI &amp;Great...</td>\n",
       "      <td>https://www.who.int/data/gho/data/indicators/i...</td>\n",
       "      <td>2000</td>\n",
       "      <td>2000</td>\n",
       "      <td>2000</td>\n",
       "      <td>AFR</td>\n",
       "      <td>Africa</td>\n",
       "      <td>KEN</td>\n",
       "      <td>Kenya</td>\n",
       "      <td>SEX</td>\n",
       "      <td>SEX_MLE</td>\n",
       "      <td>Male</td>\n",
       "      <td>2.17215</td>\n",
       "      <td>2.2 [1.2-3.5]</td>\n",
       "      <td>1.22961</td>\n",
       "      <td>3.52131</td>\n",
       "    </tr>\n",
       "    <tr>\n",
       "      <th>2</th>\n",
       "      <td>MORT_300</td>\n",
       "      <td>Distribution of causes of death among children...</td>\n",
       "      <td>https://www.who.int/data/gho/data/indicators/i...</td>\n",
       "      <td>2014</td>\n",
       "      <td>2014</td>\n",
       "      <td>2014</td>\n",
       "      <td>AFR</td>\n",
       "      <td>Africa</td>\n",
       "      <td>KEN</td>\n",
       "      <td>Kenya</td>\n",
       "      <td>AGEGROUP</td>\n",
       "      <td>AGEGROUP_MONTHS1-59</td>\n",
       "      <td>1-59 months</td>\n",
       "      <td>0.07214</td>\n",
       "      <td>0.1</td>\n",
       "      <td>NaN</td>\n",
       "      <td>NaN</td>\n",
       "    </tr>\n",
       "    <tr>\n",
       "      <th>3</th>\n",
       "      <td>AIR_62</td>\n",
       "      <td>Household and ambient air pollution attributab...</td>\n",
       "      <td>https://www.who.int/data/gho/data/indicators/i...</td>\n",
       "      <td>2015</td>\n",
       "      <td>2015</td>\n",
       "      <td>2015</td>\n",
       "      <td>AFR</td>\n",
       "      <td>Africa</td>\n",
       "      <td>KEN</td>\n",
       "      <td>Kenya</td>\n",
       "      <td>SEX</td>\n",
       "      <td>SEX_BTSX</td>\n",
       "      <td>Both sexes</td>\n",
       "      <td>46.23000</td>\n",
       "      <td>46 [39-53]</td>\n",
       "      <td>38.60600</td>\n",
       "      <td>53.43400</td>\n",
       "    </tr>\n",
       "    <tr>\n",
       "      <th>4</th>\n",
       "      <td>WHOSIS_000002</td>\n",
       "      <td>Healthy life expectancy (HALE) at birth (years)</td>\n",
       "      <td>https://www.who.int/data/gho/data/indicators/i...</td>\n",
       "      <td>2018</td>\n",
       "      <td>2018</td>\n",
       "      <td>2018</td>\n",
       "      <td>AFR</td>\n",
       "      <td>Africa</td>\n",
       "      <td>KEN</td>\n",
       "      <td>Kenya</td>\n",
       "      <td>SEX</td>\n",
       "      <td>SEX_BTSX</td>\n",
       "      <td>Both sexes</td>\n",
       "      <td>57.88585</td>\n",
       "      <td>57.9 [57.1-58.7]</td>\n",
       "      <td>57.10911</td>\n",
       "      <td>58.74801</td>\n",
       "    </tr>\n",
       "  </tbody>\n",
       "</table>\n",
       "</div>"
      ],
      "text/plain": [
       "           GHO (CODE)                                      GHO (DISPLAY)  \\\n",
       "0  TB_hivtest_pos_pct                Tested TB patients HIV-positive (%)   \n",
       "1         NCD_BMI_30A  Prevalence of obesity among adults, BMI &Great...   \n",
       "2            MORT_300  Distribution of causes of death among children...   \n",
       "3              AIR_62  Household and ambient air pollution attributab...   \n",
       "4       WHOSIS_000002    Healthy life expectancy (HALE) at birth (years)   \n",
       "\n",
       "                                           GHO (URL)  YEAR (DISPLAY)  \\\n",
       "0  https://www.who.int/data/gho/data/indicators/i...            2006   \n",
       "1  https://www.who.int/data/gho/data/indicators/i...            2000   \n",
       "2  https://www.who.int/data/gho/data/indicators/i...            2014   \n",
       "3  https://www.who.int/data/gho/data/indicators/i...            2015   \n",
       "4  https://www.who.int/data/gho/data/indicators/i...            2018   \n",
       "\n",
       "   STARTYEAR  ENDYEAR REGION (CODE) REGION (DISPLAY) COUNTRY (CODE)  \\\n",
       "0       2006     2006           AFR           Africa            KEN   \n",
       "1       2000     2000           AFR           Africa            KEN   \n",
       "2       2014     2014           AFR           Africa            KEN   \n",
       "3       2015     2015           AFR           Africa            KEN   \n",
       "4       2018     2018           AFR           Africa            KEN   \n",
       "\n",
       "  COUNTRY (DISPLAY) DIMENSION (TYPE)     DIMENSION (CODE) DIMENSION (NAME)  \\\n",
       "0             Kenya              NaN                  NaN              NaN   \n",
       "1             Kenya              SEX              SEX_MLE             Male   \n",
       "2             Kenya         AGEGROUP  AGEGROUP_MONTHS1-59      1-59 months   \n",
       "3             Kenya              SEX             SEX_BTSX       Both sexes   \n",
       "4             Kenya              SEX             SEX_BTSX       Both sexes   \n",
       "\n",
       "    Numeric             Value       Low      High  \n",
       "0  52.00000                52       NaN       NaN  \n",
       "1   2.17215     2.2 [1.2-3.5]   1.22961   3.52131  \n",
       "2   0.07214               0.1       NaN       NaN  \n",
       "3  46.23000        46 [39-53]  38.60600  53.43400  \n",
       "4  57.88585  57.9 [57.1-58.7]  57.10911  58.74801  "
      ]
     },
     "metadata": {},
     "output_type": "display_data"
    }
   ],
   "source": [
    "# Display the first few rows of the dataset\n",
    "print(\"Initial Data:\")\n",
    "display(data.head())"
   ]
  },
  {
   "cell_type": "markdown",
   "metadata": {
    "collapsed": false,
    "jupyter": {
     "outputs_hidden": false
    }
   },
   "source": [
    "Data Wrangling"
   ]
  },
  {
   "cell_type": "code",
   "execution_count": 6,
   "metadata": {
    "collapsed": false,
    "is_executing": true,
    "jupyter": {
     "outputs_hidden": false
    }
   },
   "outputs": [
    {
     "name": "stdout",
     "output_type": "stream",
     "text": [
      "\n",
      "Handling Missing Values:\n",
      "Missing Values per Column:\n",
      " GHO (CODE)              0\n",
      "GHO (DISPLAY)           0\n",
      "GHO (URL)               0\n",
      "YEAR (DISPLAY)          0\n",
      "STARTYEAR               0\n",
      "ENDYEAR                 0\n",
      "REGION (CODE)           0\n",
      "REGION (DISPLAY)        0\n",
      "COUNTRY (CODE)          0\n",
      "COUNTRY (DISPLAY)       0\n",
      "DIMENSION (TYPE)     3544\n",
      "DIMENSION (CODE)     3544\n",
      "DIMENSION (NAME)     3589\n",
      "Numeric              1669\n",
      "Value                  49\n",
      "Low                  6668\n",
      "High                 6668\n",
      "dtype: int64\n"
     ]
    },
    {
     "name": "stderr",
     "output_type": "stream",
     "text": [
      "C:\\Users\\user\\AppData\\Local\\Temp\\ipykernel_8116\\3539943768.py:11: FutureWarning: A value is trying to be set on a copy of a DataFrame or Series through chained assignment using an inplace method.\n",
      "The behavior will change in pandas 3.0. This inplace method will never work because the intermediate object on which we are setting values always behaves as a copy.\n",
      "\n",
      "For example, when doing 'df[col].method(value, inplace=True)', try using 'df.method({col: value}, inplace=True)' or df[col] = df[col].method(value) instead, to perform the operation inplace on the original object.\n",
      "\n",
      "\n",
      "  data[column].fillna(data[column].mean(), inplace=True)  # or use median()\n"
     ]
    }
   ],
   "source": [
    "## Cleaning the Data\n",
    "\n",
    "# Handling Missing Values\n",
    "print(\"\\nHandling Missing Values:\")\n",
    "missing_values = data.isnull().sum()\n",
    "print(\"Missing Values per Column:\\n\", missing_values)\n",
    "\n",
    "# Option 1: Imputation (for numerical columns, using mean or median)\n",
    "for column in data.select_dtypes(include=[np.number]).columns:\n",
    "    if data[column].isnull().any():\n",
    "        data[column].fillna(data[column].mean(), inplace=True)  # or use median()"
   ]
  },
  {
   "cell_type": "code",
   "execution_count": 7,
   "metadata": {
    "collapsed": false,
    "is_executing": true,
    "jupyter": {
     "outputs_hidden": false
    }
   },
   "outputs": [
    {
     "name": "stdout",
     "output_type": "stream",
     "text": [
      "\n",
      "Standardizing Formats:\n"
     ]
    }
   ],
   "source": [
    "# Standardizing Formats\n",
    "print(\"\\nStandardizing Formats:\")\n",
    "# Ensure consistent formatting for dates\n",
    "data['YEAR (DISPLAY)'] = pd.to_datetime(data['YEAR (DISPLAY)'], format='%Y', errors='coerce')\n"
   ]
  },
  {
   "cell_type": "code",
   "execution_count": 8,
   "metadata": {
    "collapsed": false,
    "is_executing": true,
    "jupyter": {
     "outputs_hidden": false
    }
   },
   "outputs": [],
   "source": [
    "# Convert percentage columns to float (if they are stored as strings)\n",
    "#percentage_columns = ['Numeric Value', 'Low', 'High']\n",
    "#for col in percentage_columns:\n",
    "  #  if col in data.columns:\n",
    "   #     data[col] = data[col].str.replace('%', '').astype(float) / 100  # Convert to decimal"
   ]
  },
  {
   "cell_type": "markdown",
   "metadata": {
    "collapsed": false,
    "jupyter": {
     "outputs_hidden": false
    }
   },
   "source": [
    "Transforming Variables"
   ]
  },
  {
   "cell_type": "code",
   "execution_count": 10,
   "metadata": {
    "collapsed": false,
    "is_executing": true,
    "jupyter": {
     "outputs_hidden": false
    }
   },
   "outputs": [
    {
     "name": "stdout",
     "output_type": "stream",
     "text": [
      "\n",
      "Converting Categorical Variables into Factors:\n"
     ]
    }
   ],
   "source": [
    "## Convert Categorical Variables into Factors\n",
    "print(\"\\nConverting Categorical Variables into Factors:\")\n",
    "categorical_columns = ['#region+name', '#country+name', '#dimension+name']\n",
    "for col in categorical_columns:\n",
    "    if col in data.columns:\n",
    "        data[col] = data[col].astype('category')"
   ]
  },
  {
   "cell_type": "code",
   "execution_count": 11,
   "metadata": {
    "collapsed": false,
    "is_executing": true,
    "jupyter": {
     "outputs_hidden": false
    }
   },
   "outputs": [
    {
     "name": "stdout",
     "output_type": "stream",
     "text": [
      "\n",
      "Creating a Clean Dataset:\n"
     ]
    },
    {
     "ename": "KeyError",
     "evalue": "\"['Growth Rate'] not in index\"",
     "output_type": "error",
     "traceback": [
      "\u001b[1;31m---------------------------------------------------------------------------\u001b[0m",
      "\u001b[1;31mKeyError\u001b[0m                                  Traceback (most recent call last)",
      "Cell \u001b[1;32mIn[11], line 3\u001b[0m\n\u001b[0;32m      1\u001b[0m \u001b[38;5;66;03m# Creating a Clean Dataset\u001b[39;00m\n\u001b[0;32m      2\u001b[0m \u001b[38;5;28mprint\u001b[39m(\u001b[38;5;124m\"\u001b[39m\u001b[38;5;130;01m\\n\u001b[39;00m\u001b[38;5;124mCreating a Clean Dataset:\u001b[39m\u001b[38;5;124m\"\u001b[39m)\n\u001b[1;32m----> 3\u001b[0m cleaned_data \u001b[38;5;241m=\u001b[39m data[[\u001b[38;5;124m'\u001b[39m\u001b[38;5;124mGHO (CODE)\u001b[39m\u001b[38;5;124m'\u001b[39m, \u001b[38;5;124m'\u001b[39m\u001b[38;5;124mGHO (DISPLAY)\u001b[39m\u001b[38;5;124m'\u001b[39m, \u001b[38;5;124m'\u001b[39m\u001b[38;5;124mYEAR (DISPLAY)\u001b[39m\u001b[38;5;124m'\u001b[39m, \n\u001b[0;32m      4\u001b[0m                       \u001b[38;5;124m'\u001b[39m\u001b[38;5;124mSTARTYEAR\u001b[39m\u001b[38;5;124m'\u001b[39m, \u001b[38;5;124m'\u001b[39m\u001b[38;5;124mENDYEAR\u001b[39m\u001b[38;5;124m'\u001b[39m, \u001b[38;5;124m'\u001b[39m\u001b[38;5;124mREGION (CODE)\u001b[39m\u001b[38;5;124m'\u001b[39m, \n\u001b[0;32m      5\u001b[0m                       \u001b[38;5;124m'\u001b[39m\u001b[38;5;124mREGION (DISPLAY)\u001b[39m\u001b[38;5;124m'\u001b[39m, \u001b[38;5;124m'\u001b[39m\u001b[38;5;124mCOUNTRY (CODE)\u001b[39m\u001b[38;5;124m'\u001b[39m, \n\u001b[0;32m      6\u001b[0m                       \u001b[38;5;124m'\u001b[39m\u001b[38;5;124mCOUNTRY (DISPLAY)\u001b[39m\u001b[38;5;124m'\u001b[39m, \u001b[38;5;124m'\u001b[39m\u001b[38;5;124mDIMENSION (TYPE)\u001b[39m\u001b[38;5;124m'\u001b[39m, \n\u001b[0;32m      7\u001b[0m                       \u001b[38;5;124m'\u001b[39m\u001b[38;5;124mDIMENSION (CODE)\u001b[39m\u001b[38;5;124m'\u001b[39m, \u001b[38;5;124m'\u001b[39m\u001b[38;5;124mDIMENSION (NAME)\u001b[39m\u001b[38;5;124m'\u001b[39m, \n\u001b[0;32m      8\u001b[0m                       \u001b[38;5;124m'\u001b[39m\u001b[38;5;124mNumeric\u001b[39m\u001b[38;5;124m'\u001b[39m, \u001b[38;5;124m'\u001b[39m\u001b[38;5;124mGrowth Rate\u001b[39m\u001b[38;5;124m'\u001b[39m, \n\u001b[0;32m      9\u001b[0m                       \u001b[38;5;124m'\u001b[39m\u001b[38;5;124mValue\u001b[39m\u001b[38;5;124m'\u001b[39m]]\n",
      "File \u001b[1;32mC:\\ProgramData\\anaconda3\\Lib\\site-packages\\pandas\\core\\frame.py:4108\u001b[0m, in \u001b[0;36mDataFrame.__getitem__\u001b[1;34m(self, key)\u001b[0m\n\u001b[0;32m   4106\u001b[0m     \u001b[38;5;28;01mif\u001b[39;00m is_iterator(key):\n\u001b[0;32m   4107\u001b[0m         key \u001b[38;5;241m=\u001b[39m \u001b[38;5;28mlist\u001b[39m(key)\n\u001b[1;32m-> 4108\u001b[0m     indexer \u001b[38;5;241m=\u001b[39m \u001b[38;5;28mself\u001b[39m\u001b[38;5;241m.\u001b[39mcolumns\u001b[38;5;241m.\u001b[39m_get_indexer_strict(key, \u001b[38;5;124m\"\u001b[39m\u001b[38;5;124mcolumns\u001b[39m\u001b[38;5;124m\"\u001b[39m)[\u001b[38;5;241m1\u001b[39m]\n\u001b[0;32m   4110\u001b[0m \u001b[38;5;66;03m# take() does not accept boolean indexers\u001b[39;00m\n\u001b[0;32m   4111\u001b[0m \u001b[38;5;28;01mif\u001b[39;00m \u001b[38;5;28mgetattr\u001b[39m(indexer, \u001b[38;5;124m\"\u001b[39m\u001b[38;5;124mdtype\u001b[39m\u001b[38;5;124m\"\u001b[39m, \u001b[38;5;28;01mNone\u001b[39;00m) \u001b[38;5;241m==\u001b[39m \u001b[38;5;28mbool\u001b[39m:\n",
      "File \u001b[1;32mC:\\ProgramData\\anaconda3\\Lib\\site-packages\\pandas\\core\\indexes\\base.py:6200\u001b[0m, in \u001b[0;36mIndex._get_indexer_strict\u001b[1;34m(self, key, axis_name)\u001b[0m\n\u001b[0;32m   6197\u001b[0m \u001b[38;5;28;01melse\u001b[39;00m:\n\u001b[0;32m   6198\u001b[0m     keyarr, indexer, new_indexer \u001b[38;5;241m=\u001b[39m \u001b[38;5;28mself\u001b[39m\u001b[38;5;241m.\u001b[39m_reindex_non_unique(keyarr)\n\u001b[1;32m-> 6200\u001b[0m \u001b[38;5;28mself\u001b[39m\u001b[38;5;241m.\u001b[39m_raise_if_missing(keyarr, indexer, axis_name)\n\u001b[0;32m   6202\u001b[0m keyarr \u001b[38;5;241m=\u001b[39m \u001b[38;5;28mself\u001b[39m\u001b[38;5;241m.\u001b[39mtake(indexer)\n\u001b[0;32m   6203\u001b[0m \u001b[38;5;28;01mif\u001b[39;00m \u001b[38;5;28misinstance\u001b[39m(key, Index):\n\u001b[0;32m   6204\u001b[0m     \u001b[38;5;66;03m# GH 42790 - Preserve name from an Index\u001b[39;00m\n",
      "File \u001b[1;32mC:\\ProgramData\\anaconda3\\Lib\\site-packages\\pandas\\core\\indexes\\base.py:6252\u001b[0m, in \u001b[0;36mIndex._raise_if_missing\u001b[1;34m(self, key, indexer, axis_name)\u001b[0m\n\u001b[0;32m   6249\u001b[0m     \u001b[38;5;28;01mraise\u001b[39;00m \u001b[38;5;167;01mKeyError\u001b[39;00m(\u001b[38;5;124mf\u001b[39m\u001b[38;5;124m\"\u001b[39m\u001b[38;5;124mNone of [\u001b[39m\u001b[38;5;132;01m{\u001b[39;00mkey\u001b[38;5;132;01m}\u001b[39;00m\u001b[38;5;124m] are in the [\u001b[39m\u001b[38;5;132;01m{\u001b[39;00maxis_name\u001b[38;5;132;01m}\u001b[39;00m\u001b[38;5;124m]\u001b[39m\u001b[38;5;124m\"\u001b[39m)\n\u001b[0;32m   6251\u001b[0m not_found \u001b[38;5;241m=\u001b[39m \u001b[38;5;28mlist\u001b[39m(ensure_index(key)[missing_mask\u001b[38;5;241m.\u001b[39mnonzero()[\u001b[38;5;241m0\u001b[39m]]\u001b[38;5;241m.\u001b[39munique())\n\u001b[1;32m-> 6252\u001b[0m \u001b[38;5;28;01mraise\u001b[39;00m \u001b[38;5;167;01mKeyError\u001b[39;00m(\u001b[38;5;124mf\u001b[39m\u001b[38;5;124m\"\u001b[39m\u001b[38;5;132;01m{\u001b[39;00mnot_found\u001b[38;5;132;01m}\u001b[39;00m\u001b[38;5;124m not in index\u001b[39m\u001b[38;5;124m\"\u001b[39m)\n",
      "\u001b[1;31mKeyError\u001b[0m: \"['Growth Rate'] not in index\""
     ]
    }
   ],
   "source": [
    "# Creating a Clean Dataset\n",
    "print(\"\\nCreating a Clean Dataset:\")\n",
    "cleaned_data = data[['GHO (CODE)', 'GHO (DISPLAY)', 'YEAR (DISPLAY)', \n",
    "                      'STARTYEAR', 'ENDYEAR', 'REGION (CODE)', \n",
    "                      'REGION (DISPLAY)', 'COUNTRY (CODE)', \n",
    "                      'COUNTRY (DISPLAY)', 'DIMENSION (TYPE)', \n",
    "                      'DIMENSION (CODE)', 'DIMENSION (NAME)', \n",
    "                      'Numeric', 'Growth Rate', \n",
    "                      'Value']]"
   ]
  },
  {
   "cell_type": "code",
   "execution_count": null,
   "metadata": {
    "collapsed": false,
    "is_executing": true,
    "jupyter": {
     "outputs_hidden": false
    }
   },
   "outputs": [],
   "source": [
    "# Display the cleaned dataset\n",
    "print(\"Cleaned Dataset:\")\n",
    "display(cleaned_data.head())"
   ]
  },
  {
   "cell_type": "code",
   "execution_count": null,
   "metadata": {
    "collapsed": false,
    "is_executing": true,
    "jupyter": {
     "outputs_hidden": false
    }
   },
   "outputs": [],
   "source": [
    "# Save the cleaned dataset to a new CSV file (optional)\n",
    "cleaned_data.to_csv('cleaned_health_data.csv', index=False)"
   ]
  },
  {
   "cell_type": "markdown",
   "metadata": {
    "collapsed": false,
    "jupyter": {
     "outputs_hidden": false
    }
   },
   "source": [
    "Exploratory Data Analysis (EDA)"
   ]
  },
  {
   "cell_type": "code",
   "execution_count": null,
   "metadata": {
    "collapsed": false,
    "is_executing": true,
    "jupyter": {
     "outputs_hidden": false
    }
   },
   "outputs": [],
   "source": [
    "## Descriptive Statistics\n",
    "\n",
    "print(\"\\nDescriptive Statistics:\")\n",
    "stats_summary = cleaned_data.describe()\n",
    "print(stats_summary)"
   ]
  },
  {
   "cell_type": "code",
   "execution_count": null,
   "metadata": {
    "collapsed": false,
    "is_executing": true,
    "jupyter": {
     "outputs_hidden": false
    }
   },
   "outputs": [],
   "source": [
    "# Frequency distributions for categorical variables\n",
    "for col in categorical_columns:\n",
    "    if col in cleaned_data.columns:\n",
    "        print(f\"\\nFrequency Distribution for {col}:\")\n",
    "        print(cleaned_data[col].value_counts())"
   ]
  },
  {
   "cell_type": "code",
   "execution_count": null,
   "metadata": {
    "collapsed": false,
    "is_executing": true,
    "jupyter": {
     "outputs_hidden": false
    }
   },
   "outputs": [],
   "source": [
    "## Trend Analysis\n",
    "def plot_trend(indicator_name):\n",
    "    plt.figure(figsize=(12, 6))\n",
    "    sns.lineplot(data=cleaned_data[cleaned_data['GHO (DISPLAY)'] == indicator_name],\n",
    "                 x='YEAR (DISPLAY)', y='Numeric')\n",
    "    plt.title(f'Trend of {indicator_name} Over Years')\n",
    "    plt.xlabel('Year')\n",
    "    plt.ylabel('Value (%)')\n",
    "    plt.xticks(rotation=45)\n",
    "    plt.show()"
   ]
  },
  {
   "cell_type": "code",
   "execution_count": null,
   "metadata": {
    "collapsed": false,
    "is_executing": true,
    "jupyter": {
     "outputs_hidden": false
    }
   },
   "outputs": [],
   "source": [
    "## Regional Comparisons\n",
    "def plot_regional_comparison(indicator_name):\n",
    "    plt.figure(figsize=(12, 6))\n",
    "    sns.barplot(data=cleaned_data[cleaned_data['GHO (DISPLAY)'] == indicator_name],\n",
    "                 x='REGION (DISPLAY)', y='Numeric')\n",
    "    plt.title(f'{indicator_name} by Region')\n",
    "    plt.xlabel('Region')\n",
    "    plt.ylabel('Value (%)')\n",
    "    plt.xticks(rotation=45)\n",
    "    plt.show()"
   ]
  },
  {
   "cell_type": "code",
   "execution_count": null,
   "metadata": {
    "collapsed": false,
    "is_executing": true,
    "jupyter": {
     "outputs_hidden": false
    }
   },
   "outputs": [],
   "source": [
    "## Confidence Intervals\n",
    "def confidence_interval(indicator_name):\n",
    "    data_for_ci = cleaned_data[cleaned_data['GHO (DISPLAY)'] == indicator_name]\n",
    "    mean_value = data_for_ci['Numeric Value'].mean()\n",
    "    std_dev = data_for_ci['Numeric Value'].std()\n",
    "    n = len(data_for_ci)\n",
    "\n",
    "    confidence_level = 0.95\n",
    "    z_score = 1.96  # z-score for 95% confidence interval\n",
    "\n",
    "    margin_of_error = z_score * (std_dev / np.sqrt(n))\n",
    "    return mean_value - margin_of_error, mean_value + margin_of_error"
   ]
  },
  {
   "cell_type": "code",
   "execution_count": null,
   "metadata": {},
   "outputs": [],
   "source": []
  }
 ],
 "metadata": {
  "kernelspec": {
   "display_name": "Python 3 (ipykernel)",
   "language": "python",
   "name": "python3"
  },
  "language_info": {
   "codemirror_mode": {
    "name": "ipython",
    "version": 3
   },
   "file_extension": ".py",
   "mimetype": "text/x-python",
   "name": "python",
   "nbconvert_exporter": "python",
   "pygments_lexer": "ipython3",
   "version": "3.12.7"
  }
 },
 "nbformat": 4,
 "nbformat_minor": 4
}
